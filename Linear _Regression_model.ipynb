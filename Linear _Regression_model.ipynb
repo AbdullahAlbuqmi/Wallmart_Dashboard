{
 "cells": [
  {
   "cell_type": "markdown",
   "id": "7f35061c",
   "metadata": {},
   "source": [
    "# Building a Linear Regression Model for Walmart Sales Forecast"
   ]
  },
  {
   "cell_type": "markdown",
   "id": "39cf7f20",
   "metadata": {},
   "source": [
    "## 1.Import libraries & Data"
   ]
  },
  {
   "cell_type": "code",
   "execution_count": 19,
   "id": "d13e8255",
   "metadata": {},
   "outputs": [
    {
     "name": "stdout",
     "output_type": "stream",
     "text": [
      "Dataset loaded successfully.\n",
      "Dataset shape: (6435, 10)\n",
      "\n",
      "First 5 rows of the dataset:\n",
      "   IsHoliday        Date  Store  Weekly_Sales  Temperature  Fuel_Price   \n",
      "0      False  2010-02-05      1    1643690.90        42.31       2.572  \\\n",
      "1      False  2010-02-05      2    2136989.46        40.19       2.572   \n",
      "2      False  2010-02-05      3     461622.22        45.71       2.572   \n",
      "3      False  2010-02-05      4    2135143.87        43.76       2.598   \n",
      "4      False  2010-02-05      5     317173.10        39.70       2.572   \n",
      "\n",
      "          CPI  Unemployment Type    Size  \n",
      "0  211.096358         8.106    A  151315  \n",
      "1  210.752605         8.324    A  202307  \n",
      "2  214.424881         7.368    B   37392  \n",
      "3  126.442065         8.623    A  205863  \n",
      "4  211.653972         6.566    B   34875  \n"
     ]
    }
   ],
   "source": [
    "# Import necessary libraries\n",
    "import pandas as pd\n",
    "import numpy as np\n",
    "import statsmodels.api as sm\n",
    "from sklearn.model_selection import train_test_split\n",
    "from sklearn.preprocessing import StandardScaler\n",
    "from sklearn import metrics\n",
    "import pickle\n",
    "import plotly.express as px\n",
    "\n",
    "# Load the dataset from a CSV file\n",
    "try:\n",
    "    df = pd.read_csv('wallmart_final_dataset.csv')\n",
    "    print(\"Dataset loaded successfully.\")\n",
    "    print(\"Dataset shape:\", df.shape)\n",
    "    print(\"\\nFirst 5 rows of the dataset:\")\n",
    "    print(df.head())\n",
    "except FileNotFoundError:\n",
    "    print(\"Error: 'wallmart_final_dataset.csv' not found. Please check the file path.\")\n",
    "    exit()"
   ]
  },
  {
   "cell_type": "markdown",
   "id": "80ab1cb4",
   "metadata": {},
   "source": [
    "## 2. Preprocessing & Feature Engineering "
   ]
  },
  {
   "cell_type": "code",
   "execution_count": 20,
   "id": "3a9282ce",
   "metadata": {},
   "outputs": [
    {
     "name": "stdout",
     "output_type": "stream",
     "text": [
      "\n",
      "Dataset after preprocessing and feature engineering:\n",
      "   IsHoliday  Weekly_Sales  Temperature  Fuel_Price         CPI  Unemployment   \n",
      "0          0    1643690.90        42.31       2.572  211.096358         8.106  \\\n",
      "1          0    2136989.46        40.19       2.572  210.752605         8.324   \n",
      "2          0     461622.22        45.71       2.572  214.424881         7.368   \n",
      "3          0    2135143.87        43.76       2.598  126.442065         8.623   \n",
      "4          0     317173.10        39.70       2.572  211.653972         6.566   \n",
      "\n",
      "     Size  Year  Month  WeekOfYear  Type_A  Type_B  Type_C  \n",
      "0  151315  2010      2           5    True   False   False  \n",
      "1  202307  2010      2           5    True   False   False  \n",
      "2   37392  2010      2           5   False    True   False  \n",
      "3  205863  2010      2           5    True   False   False  \n",
      "4   34875  2010      2           5   False    True   False  \n"
     ]
    }
   ],
   "source": [
    "\n",
    "# Convert 'Date' column to datetime objects\n",
    "df['Date'] = pd.to_datetime(df['Date'])\n",
    "\n",
    "# Extract year, month, and week of the year, as these might impact sales\n",
    "df['Year'] = df['Date'].dt.year\n",
    "df['Month'] = df['Date'].dt.month\n",
    "df['WeekOfYear'] = df['Date'].dt.isocalendar().week\n",
    "\n",
    "# Convert boolean 'IsHoliday' to integer (1 for True, 0 for False)\n",
    "df['IsHoliday'] = df['IsHoliday'].astype(int)\n",
    "\n",
    "# Convert categorical 'Type' column into numerical using one-hot encoding\n",
    "df = pd.get_dummies(df, columns=['Type'], drop_first=False)\n",
    "\n",
    "# Drop the original 'Date' column as we have extracted its features\n",
    "# Also, drop 'Store' as it's an identifier and not a predictive feature for this general model\n",
    "df = df.drop(columns=['Date', 'Store'])\n",
    "\n",
    "print(\"\\nDataset after preprocessing and feature engineering:\")\n",
    "print(df.head())"
   ]
  },
  {
   "cell_type": "markdown",
   "id": "101c4892",
   "metadata": {},
   "source": [
    "## 3. Feature Selection using Correlation "
   ]
  },
  {
   "cell_type": "code",
   "execution_count": 21,
   "id": "d67d07f7",
   "metadata": {},
   "outputs": [
    {
     "data": {
      "application/vnd.plotly.v1+json": {
       "config": {
        "plotlyServerURL": "https://plot.ly"
       },
       "data": [
        {
         "coloraxis": "coloraxis",
         "hovertemplate": "Features: %{x}<br>Features: %{y}<br>Correlation: %{z}<extra></extra>",
         "name": "0",
         "texttemplate": "%{z:.2f}",
         "type": "heatmap",
         "x": [
          "IsHoliday",
          "Weekly_Sales",
          "Temperature",
          "Fuel_Price",
          "CPI",
          "Unemployment",
          "Size",
          "Year",
          "Month",
          "WeekOfYear",
          "Type_A",
          "Type_B",
          "Type_C"
         ],
         "xaxis": "x",
         "y": [
          "IsHoliday",
          "Weekly_Sales",
          "Temperature",
          "Fuel_Price",
          "CPI",
          "Unemployment",
          "Size",
          "Year",
          "Month",
          "WeekOfYear",
          "Type_A",
          "Type_B",
          "Type_C"
         ],
         "yaxis": "y",
         "z": [
          [
           1,
           0.036890968010413784,
           -0.15509132934652392,
           -0.07834651805168123,
           -0.0021620912744277476,
           0.010960284292462803,
           4.646784216716555e-16,
           -0.05678256967908838,
           0.12299577212234576,
           0.1277427307186299,
           -3.4611848436160496e-16,
           1.8837128546584052e-16,
           2.2416070473671743e-16
          ],
          [
           0.036890968010413784,
           1,
           -0.06381001317946937,
           0.009463786314474169,
           -0.07263416204017599,
           -0.10617608965795403,
           0.8104684946513756,
           -0.018377542598868375,
           0.07614331979236581,
           0.0742112700011827,
           0.5714129894120595,
           -0.3092484777760794,
           -0.39920172266943826
          ],
          [
           -0.15509132934652392,
           -0.06381001317946937,
           1,
           0.14498180596996202,
           0.17688767634228386,
           0.10115785726197016,
           -0.09248017155073579,
           0.06426922893908436,
           0.23586175882800337,
           0.2361833294241817,
           0.01934691666293348,
           -0.12209723677116556,
           0.14569134825132435
          ],
          [
           -0.07834651805168123,
           0.009463786314474169,
           0.14498180596996202,
           1,
           -0.17064179519426925,
           -0.034683744874363376,
           0.00905322479328674,
           0.779470301927266,
           -0.042155899793919045,
           -0.03240300116363941,
           -0.029843280755152975,
           0.03317138635987816,
           -0.0034259009883356828
          ],
          [
           -0.0021620912744277476,
           -0.07263416204017599,
           0.17688767634228386,
           -0.17064179519426925,
           1,
           -0.30202006372224793,
           -0.009737308568012353,
           0.07479573145268585,
           0.004979671589547013,
           0.0060415298436525345,
           0.07211513259781384,
           -0.06815583438721622,
           -0.008838630084671376
          ],
          [
           0.010960284292462803,
           -0.10617608965795403,
           0.10115785726197016,
           -0.034683744874363376,
           -0.30202006372224793,
           1,
           -0.08917013952578351,
           -0.24181349397379262,
           -0.012745590596055663,
           -0.015891579677925136,
           -0.10110632048125863,
           -0.033765505453592394,
           0.1968356719335946
          ],
          [
           4.646784216716555e-16,
           0.8104684946513756,
           -0.09248017155073579,
           0.00905322479328674,
           -0.009737308568012353,
           -0.08917013952578351,
           1,
           -5.071435674808393e-15,
           1.0303443196695695e-16,
           1.049788686039078e-16,
           0.7277193653661186,
           -0.35923556253037003,
           -0.5577574046290672
          ],
          [
           -0.05678256967908838,
           -0.018377542598868375,
           0.06426922893908436,
           0.779470301927266,
           0.07479573145268585,
           -0.24181349397379262,
           -5.071435674808393e-15,
           1,
           -0.19446452067014547,
           -0.1819189103769188,
           -2.0194753682044736e-15,
           -3.9612984655010665e-15,
           8.818945280467254e-15
          ],
          [
           0.12299577212234576,
           0.07614331979236581,
           0.23586175882800337,
           -0.042155899793919045,
           0.004979671589547013,
           -0.012745590596055663,
           1.0303443196695695e-16,
           -0.19446452067014547,
           1,
           0.9959842728099467,
           -2.574349921345105e-16,
           -4.318956311518835e-17,
           -5.3268330114853205e-17
          ],
          [
           0.1277427307186299,
           0.0742112700011827,
           0.2361833294241817,
           -0.03240300116363941,
           0.0060415298436525345,
           -0.015891579677925136,
           1.049788686039078e-16,
           -0.1819189103769188,
           0.9959842728099467,
           1,
           -2.651092335659661e-16,
           -3.6874651783660954e-17,
           -5.014245492597574e-17
          ],
          [
           -3.4611848436160496e-16,
           0.5714129894120595,
           0.01934691666293348,
           -0.029843280755152975,
           0.07211513259781384,
           -0.10110632048125863,
           0.7277193653661186,
           -2.0194753682044736e-15,
           -2.574349921345105e-16,
           -2.651092335659661e-16,
           1,
           -0.7620664942214056,
           -0.3836107279983846
          ],
          [
           1.8837128546584052e-16,
           -0.3092484777760794,
           -0.12209723677116556,
           0.03317138635987816,
           -0.06815583438721622,
           -0.033765505453592394,
           -0.35923556253037003,
           -3.9612984655010665e-15,
           -4.318956311518835e-17,
           -3.6874651783660954e-17,
           -0.7620664942214056,
           1,
           -0.3056249227510624
          ],
          [
           2.2416070473671743e-16,
           -0.39920172266943826,
           0.14569134825132435,
           -0.0034259009883356828,
           -0.008838630084671376,
           0.1968356719335946,
           -0.5577574046290672,
           8.818945280467254e-15,
           -5.3268330114853205e-17,
           -5.014245492597574e-17,
           -0.3836107279983846,
           -0.3056249227510624,
           1
          ]
         ]
        }
       ],
       "layout": {
        "coloraxis": {
         "cmax": 1,
         "cmid": 0,
         "cmin": -1,
         "colorbar": {
          "title": {
           "text": "Correlation"
          }
         },
         "colorscale": [
          [
           0,
           "rgb(103,0,31)"
          ],
          [
           0.1,
           "rgb(178,24,43)"
          ],
          [
           0.2,
           "rgb(214,96,77)"
          ],
          [
           0.3,
           "rgb(244,165,130)"
          ],
          [
           0.4,
           "rgb(253,219,199)"
          ],
          [
           0.5,
           "rgb(247,247,247)"
          ],
          [
           0.6,
           "rgb(209,229,240)"
          ],
          [
           0.7,
           "rgb(146,197,222)"
          ],
          [
           0.8,
           "rgb(67,147,195)"
          ],
          [
           0.9,
           "rgb(33,102,172)"
          ],
          [
           1,
           "rgb(5,48,97)"
          ]
         ]
        },
        "height": 600,
        "template": {
         "data": {
          "bar": [
           {
            "error_x": {
             "color": "#2a3f5f"
            },
            "error_y": {
             "color": "#2a3f5f"
            },
            "marker": {
             "line": {
              "color": "#E5ECF6",
              "width": 0.5
             },
             "pattern": {
              "fillmode": "overlay",
              "size": 10,
              "solidity": 0.2
             }
            },
            "type": "bar"
           }
          ],
          "barpolar": [
           {
            "marker": {
             "line": {
              "color": "#E5ECF6",
              "width": 0.5
             },
             "pattern": {
              "fillmode": "overlay",
              "size": 10,
              "solidity": 0.2
             }
            },
            "type": "barpolar"
           }
          ],
          "carpet": [
           {
            "aaxis": {
             "endlinecolor": "#2a3f5f",
             "gridcolor": "white",
             "linecolor": "white",
             "minorgridcolor": "white",
             "startlinecolor": "#2a3f5f"
            },
            "baxis": {
             "endlinecolor": "#2a3f5f",
             "gridcolor": "white",
             "linecolor": "white",
             "minorgridcolor": "white",
             "startlinecolor": "#2a3f5f"
            },
            "type": "carpet"
           }
          ],
          "choropleth": [
           {
            "colorbar": {
             "outlinewidth": 0,
             "ticks": ""
            },
            "type": "choropleth"
           }
          ],
          "contour": [
           {
            "colorbar": {
             "outlinewidth": 0,
             "ticks": ""
            },
            "colorscale": [
             [
              0,
              "#0d0887"
             ],
             [
              0.1111111111111111,
              "#46039f"
             ],
             [
              0.2222222222222222,
              "#7201a8"
             ],
             [
              0.3333333333333333,
              "#9c179e"
             ],
             [
              0.4444444444444444,
              "#bd3786"
             ],
             [
              0.5555555555555556,
              "#d8576b"
             ],
             [
              0.6666666666666666,
              "#ed7953"
             ],
             [
              0.7777777777777778,
              "#fb9f3a"
             ],
             [
              0.8888888888888888,
              "#fdca26"
             ],
             [
              1,
              "#f0f921"
             ]
            ],
            "type": "contour"
           }
          ],
          "contourcarpet": [
           {
            "colorbar": {
             "outlinewidth": 0,
             "ticks": ""
            },
            "type": "contourcarpet"
           }
          ],
          "heatmap": [
           {
            "colorbar": {
             "outlinewidth": 0,
             "ticks": ""
            },
            "colorscale": [
             [
              0,
              "#0d0887"
             ],
             [
              0.1111111111111111,
              "#46039f"
             ],
             [
              0.2222222222222222,
              "#7201a8"
             ],
             [
              0.3333333333333333,
              "#9c179e"
             ],
             [
              0.4444444444444444,
              "#bd3786"
             ],
             [
              0.5555555555555556,
              "#d8576b"
             ],
             [
              0.6666666666666666,
              "#ed7953"
             ],
             [
              0.7777777777777778,
              "#fb9f3a"
             ],
             [
              0.8888888888888888,
              "#fdca26"
             ],
             [
              1,
              "#f0f921"
             ]
            ],
            "type": "heatmap"
           }
          ],
          "heatmapgl": [
           {
            "colorbar": {
             "outlinewidth": 0,
             "ticks": ""
            },
            "colorscale": [
             [
              0,
              "#0d0887"
             ],
             [
              0.1111111111111111,
              "#46039f"
             ],
             [
              0.2222222222222222,
              "#7201a8"
             ],
             [
              0.3333333333333333,
              "#9c179e"
             ],
             [
              0.4444444444444444,
              "#bd3786"
             ],
             [
              0.5555555555555556,
              "#d8576b"
             ],
             [
              0.6666666666666666,
              "#ed7953"
             ],
             [
              0.7777777777777778,
              "#fb9f3a"
             ],
             [
              0.8888888888888888,
              "#fdca26"
             ],
             [
              1,
              "#f0f921"
             ]
            ],
            "type": "heatmapgl"
           }
          ],
          "histogram": [
           {
            "marker": {
             "pattern": {
              "fillmode": "overlay",
              "size": 10,
              "solidity": 0.2
             }
            },
            "type": "histogram"
           }
          ],
          "histogram2d": [
           {
            "colorbar": {
             "outlinewidth": 0,
             "ticks": ""
            },
            "colorscale": [
             [
              0,
              "#0d0887"
             ],
             [
              0.1111111111111111,
              "#46039f"
             ],
             [
              0.2222222222222222,
              "#7201a8"
             ],
             [
              0.3333333333333333,
              "#9c179e"
             ],
             [
              0.4444444444444444,
              "#bd3786"
             ],
             [
              0.5555555555555556,
              "#d8576b"
             ],
             [
              0.6666666666666666,
              "#ed7953"
             ],
             [
              0.7777777777777778,
              "#fb9f3a"
             ],
             [
              0.8888888888888888,
              "#fdca26"
             ],
             [
              1,
              "#f0f921"
             ]
            ],
            "type": "histogram2d"
           }
          ],
          "histogram2dcontour": [
           {
            "colorbar": {
             "outlinewidth": 0,
             "ticks": ""
            },
            "colorscale": [
             [
              0,
              "#0d0887"
             ],
             [
              0.1111111111111111,
              "#46039f"
             ],
             [
              0.2222222222222222,
              "#7201a8"
             ],
             [
              0.3333333333333333,
              "#9c179e"
             ],
             [
              0.4444444444444444,
              "#bd3786"
             ],
             [
              0.5555555555555556,
              "#d8576b"
             ],
             [
              0.6666666666666666,
              "#ed7953"
             ],
             [
              0.7777777777777778,
              "#fb9f3a"
             ],
             [
              0.8888888888888888,
              "#fdca26"
             ],
             [
              1,
              "#f0f921"
             ]
            ],
            "type": "histogram2dcontour"
           }
          ],
          "mesh3d": [
           {
            "colorbar": {
             "outlinewidth": 0,
             "ticks": ""
            },
            "type": "mesh3d"
           }
          ],
          "parcoords": [
           {
            "line": {
             "colorbar": {
              "outlinewidth": 0,
              "ticks": ""
             }
            },
            "type": "parcoords"
           }
          ],
          "pie": [
           {
            "automargin": true,
            "type": "pie"
           }
          ],
          "scatter": [
           {
            "fillpattern": {
             "fillmode": "overlay",
             "size": 10,
             "solidity": 0.2
            },
            "type": "scatter"
           }
          ],
          "scatter3d": [
           {
            "line": {
             "colorbar": {
              "outlinewidth": 0,
              "ticks": ""
             }
            },
            "marker": {
             "colorbar": {
              "outlinewidth": 0,
              "ticks": ""
             }
            },
            "type": "scatter3d"
           }
          ],
          "scattercarpet": [
           {
            "marker": {
             "colorbar": {
              "outlinewidth": 0,
              "ticks": ""
             }
            },
            "type": "scattercarpet"
           }
          ],
          "scattergeo": [
           {
            "marker": {
             "colorbar": {
              "outlinewidth": 0,
              "ticks": ""
             }
            },
            "type": "scattergeo"
           }
          ],
          "scattergl": [
           {
            "marker": {
             "colorbar": {
              "outlinewidth": 0,
              "ticks": ""
             }
            },
            "type": "scattergl"
           }
          ],
          "scattermapbox": [
           {
            "marker": {
             "colorbar": {
              "outlinewidth": 0,
              "ticks": ""
             }
            },
            "type": "scattermapbox"
           }
          ],
          "scatterpolar": [
           {
            "marker": {
             "colorbar": {
              "outlinewidth": 0,
              "ticks": ""
             }
            },
            "type": "scatterpolar"
           }
          ],
          "scatterpolargl": [
           {
            "marker": {
             "colorbar": {
              "outlinewidth": 0,
              "ticks": ""
             }
            },
            "type": "scatterpolargl"
           }
          ],
          "scatterternary": [
           {
            "marker": {
             "colorbar": {
              "outlinewidth": 0,
              "ticks": ""
             }
            },
            "type": "scatterternary"
           }
          ],
          "surface": [
           {
            "colorbar": {
             "outlinewidth": 0,
             "ticks": ""
            },
            "colorscale": [
             [
              0,
              "#0d0887"
             ],
             [
              0.1111111111111111,
              "#46039f"
             ],
             [
              0.2222222222222222,
              "#7201a8"
             ],
             [
              0.3333333333333333,
              "#9c179e"
             ],
             [
              0.4444444444444444,
              "#bd3786"
             ],
             [
              0.5555555555555556,
              "#d8576b"
             ],
             [
              0.6666666666666666,
              "#ed7953"
             ],
             [
              0.7777777777777778,
              "#fb9f3a"
             ],
             [
              0.8888888888888888,
              "#fdca26"
             ],
             [
              1,
              "#f0f921"
             ]
            ],
            "type": "surface"
           }
          ],
          "table": [
           {
            "cells": {
             "fill": {
              "color": "#EBF0F8"
             },
             "line": {
              "color": "white"
             }
            },
            "header": {
             "fill": {
              "color": "#C8D4E3"
             },
             "line": {
              "color": "white"
             }
            },
            "type": "table"
           }
          ]
         },
         "layout": {
          "annotationdefaults": {
           "arrowcolor": "#2a3f5f",
           "arrowhead": 0,
           "arrowwidth": 1
          },
          "autotypenumbers": "strict",
          "coloraxis": {
           "colorbar": {
            "outlinewidth": 0,
            "ticks": ""
           }
          },
          "colorscale": {
           "diverging": [
            [
             0,
             "#8e0152"
            ],
            [
             0.1,
             "#c51b7d"
            ],
            [
             0.2,
             "#de77ae"
            ],
            [
             0.3,
             "#f1b6da"
            ],
            [
             0.4,
             "#fde0ef"
            ],
            [
             0.5,
             "#f7f7f7"
            ],
            [
             0.6,
             "#e6f5d0"
            ],
            [
             0.7,
             "#b8e186"
            ],
            [
             0.8,
             "#7fbc41"
            ],
            [
             0.9,
             "#4d9221"
            ],
            [
             1,
             "#276419"
            ]
           ],
           "sequential": [
            [
             0,
             "#0d0887"
            ],
            [
             0.1111111111111111,
             "#46039f"
            ],
            [
             0.2222222222222222,
             "#7201a8"
            ],
            [
             0.3333333333333333,
             "#9c179e"
            ],
            [
             0.4444444444444444,
             "#bd3786"
            ],
            [
             0.5555555555555556,
             "#d8576b"
            ],
            [
             0.6666666666666666,
             "#ed7953"
            ],
            [
             0.7777777777777778,
             "#fb9f3a"
            ],
            [
             0.8888888888888888,
             "#fdca26"
            ],
            [
             1,
             "#f0f921"
            ]
           ],
           "sequentialminus": [
            [
             0,
             "#0d0887"
            ],
            [
             0.1111111111111111,
             "#46039f"
            ],
            [
             0.2222222222222222,
             "#7201a8"
            ],
            [
             0.3333333333333333,
             "#9c179e"
            ],
            [
             0.4444444444444444,
             "#bd3786"
            ],
            [
             0.5555555555555556,
             "#d8576b"
            ],
            [
             0.6666666666666666,
             "#ed7953"
            ],
            [
             0.7777777777777778,
             "#fb9f3a"
            ],
            [
             0.8888888888888888,
             "#fdca26"
            ],
            [
             1,
             "#f0f921"
            ]
           ]
          },
          "colorway": [
           "#636efa",
           "#EF553B",
           "#00cc96",
           "#ab63fa",
           "#FFA15A",
           "#19d3f3",
           "#FF6692",
           "#B6E880",
           "#FF97FF",
           "#FECB52"
          ],
          "font": {
           "color": "#2a3f5f"
          },
          "geo": {
           "bgcolor": "white",
           "lakecolor": "white",
           "landcolor": "#E5ECF6",
           "showlakes": true,
           "showland": true,
           "subunitcolor": "white"
          },
          "hoverlabel": {
           "align": "left"
          },
          "hovermode": "closest",
          "mapbox": {
           "style": "light"
          },
          "paper_bgcolor": "white",
          "plot_bgcolor": "#E5ECF6",
          "polar": {
           "angularaxis": {
            "gridcolor": "white",
            "linecolor": "white",
            "ticks": ""
           },
           "bgcolor": "#E5ECF6",
           "radialaxis": {
            "gridcolor": "white",
            "linecolor": "white",
            "ticks": ""
           }
          },
          "scene": {
           "xaxis": {
            "backgroundcolor": "#E5ECF6",
            "gridcolor": "white",
            "gridwidth": 2,
            "linecolor": "white",
            "showbackground": true,
            "ticks": "",
            "zerolinecolor": "white"
           },
           "yaxis": {
            "backgroundcolor": "#E5ECF6",
            "gridcolor": "white",
            "gridwidth": 2,
            "linecolor": "white",
            "showbackground": true,
            "ticks": "",
            "zerolinecolor": "white"
           },
           "zaxis": {
            "backgroundcolor": "#E5ECF6",
            "gridcolor": "white",
            "gridwidth": 2,
            "linecolor": "white",
            "showbackground": true,
            "ticks": "",
            "zerolinecolor": "white"
           }
          },
          "shapedefaults": {
           "line": {
            "color": "#2a3f5f"
           }
          },
          "ternary": {
           "aaxis": {
            "gridcolor": "white",
            "linecolor": "white",
            "ticks": ""
           },
           "baxis": {
            "gridcolor": "white",
            "linecolor": "white",
            "ticks": ""
           },
           "bgcolor": "#E5ECF6",
           "caxis": {
            "gridcolor": "white",
            "linecolor": "white",
            "ticks": ""
           }
          },
          "title": {
           "x": 0.05
          },
          "xaxis": {
           "automargin": true,
           "gridcolor": "white",
           "linecolor": "white",
           "ticks": "",
           "title": {
            "standoff": 15
           },
           "zerolinecolor": "white",
           "zerolinewidth": 2
          },
          "yaxis": {
           "automargin": true,
           "gridcolor": "white",
           "linecolor": "white",
           "ticks": "",
           "title": {
            "standoff": 15
           },
           "zerolinecolor": "white",
           "zerolinewidth": 2
          }
         }
        },
        "title": {
         "text": "<b>Correlation Matrix of Walmart Sales Features</b>",
         "x": 0.5
        },
        "xaxis": {
         "anchor": "y",
         "domain": [
          0,
          1
         ],
         "title": {
          "text": "Features"
         }
        },
        "yaxis": {
         "anchor": "x",
         "autorange": "reversed",
         "domain": [
          0,
          1
         ],
         "title": {
          "text": "Features"
         }
        }
       }
      }
     },
     "metadata": {},
     "output_type": "display_data"
    },
    {
     "name": "stdout",
     "output_type": "stream",
     "text": [
      "\n",
      "Correlation of features with Weekly_Sales:\n",
      "Weekly_Sales    1.000000\n",
      "Size            0.810468\n",
      "Type_A          0.571413\n",
      "Type_C          0.399202\n",
      "Type_B          0.309248\n",
      "Unemployment    0.106176\n",
      "Month           0.076143\n",
      "WeekOfYear      0.074211\n",
      "CPI             0.072634\n",
      "Temperature     0.063810\n",
      "IsHoliday       0.036891\n",
      "Year            0.018378\n",
      "Fuel_Price      0.009464\n",
      "Name: Weekly_Sales, dtype: float64\n"
     ]
    }
   ],
   "source": [
    "# Calculate the correlation of all features with the target variable 'Weekly_Sales'\n",
    "correlation_matrix = df.corr()\n",
    "\n",
    "# Create an interactive heatmap to visualize the correlations\n",
    "fig = px.imshow(correlation_matrix,\n",
    "                text_auto='.2f', \n",
    "                aspect=\"auto\",\n",
    "                labels=dict(x=\"Features\", y=\"Features\", color=\"Correlation\"),\n",
    "                title=\"<b>Correlation Matrix of Walmart Sales Features</b>\",\n",
    "                color_continuous_scale=px.colors.diverging.RdBu, \n",
    "                color_continuous_midpoint=0,\n",
    "                zmin=-1, zmax=1 \n",
    "               )\n",
    "\n",
    "fig.update_layout(title_x=0.5, height=600) \n",
    "fig.show() \n",
    "\n",
    "\n",
    "target_correlation = correlation_matrix['Weekly_Sales'].abs().sort_values(ascending=False)\n",
    "\n",
    "print(\"\\nCorrelation of features with Weekly_Sales:\")\n",
    "print(target_correlation)"
   ]
  },
  {
   "cell_type": "markdown",
   "id": "085e3672",
   "metadata": {},
   "source": [
    "### 3.1 Feature Selection"
   ]
  },
  {
   "cell_type": "code",
   "execution_count": 22,
   "id": "81612620",
   "metadata": {},
   "outputs": [
    {
     "name": "stdout",
     "output_type": "stream",
     "text": [
      "selected features for the model: ['Size', 'CPI', 'Unemployment', 'IsHoliday', 'Month', 'Type_B', 'Type_C']\n"
     ]
    }
   ],
   "source": [
    "selected_features = [\n",
    "    'Size',\n",
    "    'CPI',\n",
    "    'Unemployment',\n",
    "    'IsHoliday',\n",
    "    'Month',\n",
    "    'Type_B',\n",
    "    'Type_C'\n",
    "]\n",
    "print(f\"selected features for the model: {selected_features}\")"
   ]
  },
  {
   "cell_type": "markdown",
   "id": "4cd4ec31",
   "metadata": {},
   "source": [
    "## 4. Data Splitting "
   ]
  },
  {
   "cell_type": "code",
   "execution_count": 23,
   "id": "52f1c84b",
   "metadata": {},
   "outputs": [],
   "source": [
    "X = df[selected_features]\n",
    "y = df['Weekly_Sales']\n",
    "\n",
    "X_train, X_test, y_train, y_test = train_test_split(X, y, test_size=0.2, random_state=42)\n",
    "\n",
    "X_train = X_train.astype('float64')\n",
    "X_test = X_test.astype('float64')\n",
    "y_train = y_train.astype('float64')\n",
    "y_test = y_test.astype('float64')\n"
   ]
  },
  {
   "cell_type": "markdown",
   "id": "08829c9d",
   "metadata": {},
   "source": [
    "## 5. Data Scaling (Z Normalization)"
   ]
  },
  {
   "cell_type": "code",
   "execution_count": 24,
   "id": "3f2d5676",
   "metadata": {},
   "outputs": [
    {
     "name": "stdout",
     "output_type": "stream",
     "text": [
      "\n",
      "Scaling complete for numerical features.\n"
     ]
    }
   ],
   "source": [
    "numerical_cols = ['Size', 'CPI', 'Unemployment', 'Month']\n",
    "binary_cols = ['IsHoliday', 'Type_B', 'Type_C']\n",
    "\n",
    "scaler = StandardScaler()\n",
    "\n",
    "X_train_processed = X_train.copy()\n",
    "X_test_processed = X_test.copy()\n",
    "\n",
    "scaler.fit(X_train[numerical_cols])\n",
    "\n",
    "X_train_processed[numerical_cols] = scaler.transform(X_train[numerical_cols])\n",
    "X_test_processed[numerical_cols] = scaler.transform(X_test[numerical_cols])\n",
    "\n",
    "X_train_scaled = X_train_processed\n",
    "X_test_scaled = X_test_processed\n",
    "print(\"\\nScaling complete for numerical features.\")\n"
   ]
  },
  {
   "cell_type": "markdown",
   "id": "59c9871e",
   "metadata": {},
   "source": [
    "## 6. Model Training "
   ]
  },
  {
   "cell_type": "code",
   "execution_count": 25,
   "id": "31c96b9e",
   "metadata": {},
   "outputs": [
    {
     "name": "stdout",
     "output_type": "stream",
     "text": [
      "\n",
      "Model training complete.\n",
      "                            OLS Regression Results                            \n",
      "==============================================================================\n",
      "Dep. Variable:           Weekly_Sales   R-squared:                       0.673\n",
      "Model:                            OLS   Adj. R-squared:                  0.673\n",
      "Method:                 Least Squares   F-statistic:                     1512.\n",
      "Date:                Sat, 20 Sep 2025   Prob (F-statistic):               0.00\n",
      "Time:                        20:16:31   Log-Likelihood:                -72613.\n",
      "No. Observations:                5148   AIC:                         1.452e+05\n",
      "Df Residuals:                    5140   BIC:                         1.453e+05\n",
      "Df Model:                           7                                         \n",
      "Covariance Type:            nonrobust                                         \n",
      "================================================================================\n",
      "                   coef    std err          t      P>|t|      [0.025      0.975]\n",
      "--------------------------------------------------------------------------------\n",
      "const         9.998e+05   8652.134    115.555      0.000    9.83e+05    1.02e+06\n",
      "Size          4.955e+05   7364.669     67.280      0.000    4.81e+05     5.1e+05\n",
      "CPI          -4.771e+04   4758.456    -10.026      0.000    -5.7e+04   -3.84e+04\n",
      "Unemployment -4.105e+04   4823.991     -8.510      0.000   -5.05e+04   -3.16e+04\n",
      "IsHoliday     7.452e+04   1.75e+04      4.261      0.000    4.02e+04    1.09e+05\n",
      "Month         4.157e+04   4545.540      9.146      0.000    3.27e+04    5.05e+04\n",
      "Type_B         3.87e+04   1.32e+04      2.923      0.003    1.27e+04    6.47e+04\n",
      "Type_C        1.919e+05   2.15e+04      8.935      0.000     1.5e+05    2.34e+05\n",
      "==============================================================================\n",
      "Omnibus:                     1338.145   Durbin-Watson:                   1.962\n",
      "Prob(Omnibus):                  0.000   Jarque-Bera (JB):             4837.922\n",
      "Skew:                           1.267   Prob(JB):                         0.00\n",
      "Kurtosis:                       7.016   Cond. No.                         6.44\n",
      "==============================================================================\n",
      "\n",
      "Notes:\n",
      "[1] Standard Errors assume that the covariance matrix of the errors is correctly specified.\n"
     ]
    }
   ],
   "source": [
    "X_train_with_const = sm.add_constant(X_train_scaled)\n",
    "\n",
    "# Create and train the Ordinary Least Squares (OLS) model\n",
    "model = sm.OLS(y_train, X_train_with_const).fit()\n",
    "\n",
    "print(\"\\nModel training complete.\")\n",
    "\n",
    "# Print the model summary\n",
    "print(model.summary())"
   ]
  },
  {
   "cell_type": "markdown",
   "id": "11701d79",
   "metadata": {},
   "source": [
    "## 7. Model Evaluation "
   ]
  },
  {
   "cell_type": "code",
   "execution_count": 26,
   "id": "8721875e",
   "metadata": {},
   "outputs": [
    {
     "name": "stdout",
     "output_type": "stream",
     "text": [
      "\n",
      "Model Summary:\n",
      "                            OLS Regression Results                            \n",
      "==============================================================================\n",
      "Dep. Variable:           Weekly_Sales   R-squared:                       0.673\n",
      "Model:                            OLS   Adj. R-squared:                  0.673\n",
      "Method:                 Least Squares   F-statistic:                     1512.\n",
      "Date:                Sat, 20 Sep 2025   Prob (F-statistic):               0.00\n",
      "Time:                        20:17:50   Log-Likelihood:                -72613.\n",
      "No. Observations:                5148   AIC:                         1.452e+05\n",
      "Df Residuals:                    5140   BIC:                         1.453e+05\n",
      "Df Model:                           7                                         \n",
      "Covariance Type:            nonrobust                                         \n",
      "================================================================================\n",
      "                   coef    std err          t      P>|t|      [0.025      0.975]\n",
      "--------------------------------------------------------------------------------\n",
      "const         9.998e+05   8652.134    115.555      0.000    9.83e+05    1.02e+06\n",
      "Size          4.955e+05   7364.669     67.280      0.000    4.81e+05     5.1e+05\n",
      "CPI          -4.771e+04   4758.456    -10.026      0.000    -5.7e+04   -3.84e+04\n",
      "Unemployment -4.105e+04   4823.991     -8.510      0.000   -5.05e+04   -3.16e+04\n",
      "IsHoliday     7.452e+04   1.75e+04      4.261      0.000    4.02e+04    1.09e+05\n",
      "Month         4.157e+04   4545.540      9.146      0.000    3.27e+04    5.05e+04\n",
      "Type_B         3.87e+04   1.32e+04      2.923      0.003    1.27e+04    6.47e+04\n",
      "Type_C        1.919e+05   2.15e+04      8.935      0.000     1.5e+05    2.34e+05\n",
      "==============================================================================\n",
      "Omnibus:                     1338.145   Durbin-Watson:                   1.962\n",
      "Prob(Omnibus):                  0.000   Jarque-Bera (JB):             4837.922\n",
      "Skew:                           1.267   Prob(JB):                         0.00\n",
      "Kurtosis:                       7.016   Cond. No.                         6.44\n",
      "==============================================================================\n",
      "\n",
      "Notes:\n",
      "[1] Standard Errors assume that the covariance matrix of the errors is correctly specified.\n",
      "\n",
      "Model Performance on Test Set:\n",
      "R-squared (R2): 0.6918\n",
      "Mean Absolute Error (MAE): $238,022.87\n",
      "Root Mean Squared Error (RMSE): $311,041.83\n"
     ]
    }
   ],
   "source": [
    "# Add a constant to the test data for prediction\n",
    "X_test_with_const = sm.add_constant(X_test_scaled)\n",
    "\n",
    "# Make predictions on the test set\n",
    "y_pred = model.predict(X_test_with_const)\n",
    "\n",
    "\n",
    "print(\"\\nModel Summary:\")\n",
    "print(model.summary())\n",
    "\n",
    "# Calculate and print key performance metrics\n",
    "mae = metrics.mean_absolute_error(y_test, y_pred)\n",
    "rmse = np.sqrt(metrics.mean_squared_error(y_test, y_pred))\n",
    "r2 = metrics.r2_score(y_test, y_pred)\n",
    "\n",
    "print(\"\\nModel Performance on Test Set:\")\n",
    "print(f\"R-squared (R2): {r2:.4f}\")\n",
    "print(f\"Mean Absolute Error (MAE): ${mae:,.2f}\")\n",
    "print(f\"Root Mean Squared Error (RMSE): ${rmse:,.2f}\")"
   ]
  },
  {
   "cell_type": "markdown",
   "id": "dcd63e6e",
   "metadata": {},
   "source": [
    "## 8. Save the Model and Scaler for Inference "
   ]
  },
  {
   "cell_type": "code",
   "execution_count": null,
   "id": "c66486b3",
   "metadata": {},
   "outputs": [
    {
     "name": "stdout",
     "output_type": "stream",
     "text": [
      "\n",
      "Model, scaler, and feature list have been saved successfully.\n",
      "Next step: Build the Streamlit dashboard for inference.\n"
     ]
    }
   ],
   "source": [
    "# Save the trained model to a file using pickle\n",
    "with open('linear_regression_model.pkl', 'wb') as f:\n",
    "    pickle.dump(model, f)\n",
    "\n",
    "# Save the scaler object to the same file\n",
    "with open('scaler.pkl', 'wb') as f:\n",
    "    pickle.dump(scaler, f)\n",
    "\n",
    "# save the list of selected feature names\n",
    "with open('selected_features.pkl', 'wb') as f:\n",
    "    pickle.dump(selected_features, f)\n",
    "\n",
    "print(\"\\nModel, scaler, and feature list have been saved successfully.\")"
   ]
  }
 ],
 "metadata": {
  "kernelspec": {
   "display_name": "Python 3",
   "language": "python",
   "name": "python3"
  },
  "language_info": {
   "codemirror_mode": {
    "name": "ipython",
    "version": 3
   },
   "file_extension": ".py",
   "mimetype": "text/x-python",
   "name": "python",
   "nbconvert_exporter": "python",
   "pygments_lexer": "ipython3",
   "version": "3.11.3"
  }
 },
 "nbformat": 4,
 "nbformat_minor": 5
}
